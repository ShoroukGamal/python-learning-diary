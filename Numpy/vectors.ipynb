{
 "cells": [
  {
   "cell_type": "markdown",
   "id": "13e2df3e-e37c-4067-a14c-bb1a8d7e80cc",
   "metadata": {},
   "source": [
    "## Introduction\n",
    "- A vector in NumPy is simply **a 1-dimensional array** with one index.\n",
    "\n",
    "     **1-D array, shape (n,): n elements indexed [0] through [n-1]**\n",
    "  \n",
    "\n",
    "- Why numpy vectors instead of python lists?\n",
    "    - Much faster performance for numerical operations  \n",
    "    - Use less memory\n",
    "    - The most important thing is **vectorization** (we might talk about it later) to perform operations on entire arrays without loops.\n",
    "    - Broadcasting: to handle the operations between arrays of different sizes (i talked about this topic before)"
   ]
  },
  {
   "cell_type": "markdown",
   "id": "bfffbb64-55ca-468a-b6c9-c2273fc151fd",
   "metadata": {},
   "source": [
    "## Vector creation\n",
    "- Since the vector is 1-D array has shape `(n, )` so if we use data creation routines in Numpy to create vectors then just the first parameter will be enough:\n",
    "\n",
    "### Using NumPy Functions:\n"
   ]
  },
  {
   "cell_type": "code",
   "execution_count": 3,
   "id": "b799bd42-1f28-4d2a-828a-45e7cba0e34b",
   "metadata": {},
   "outputs": [
    {
     "name": "stdout",
     "output_type": "stream",
     "text": [
      "np.zeros(5) :   zeros = [0. 0. 0. 0. 0.], zeros shape = (5,)\n",
      "np.zeros((5, )) :   zeros = [0. 0. 0. 0. 0.], zeros shape = (5,)\n"
     ]
    }
   ],
   "source": [
    "import numpy as np \n",
    "\n",
    "zeros = np.zeros(5)\n",
    "print(f\"np.zeros(5) :   zeros = {zeros}, zeros shape = {zeros.shape}\")\n",
    "zeros = np.zeros((5, ))\n",
    "print(f\"np.zeros((5, )) :   zeros = {zeros}, zeros shape = {zeros.shape}\")"
   ]
  },
  {
   "cell_type": "markdown",
   "id": "fb0a5dde-5726-4fd4-96b2-88c7b241e2c5",
   "metadata": {},
   "source": [
    "- Some NumPy routines (like np.zeros, np.ones) require a shape as input."
   ]
  },
  {
   "cell_type": "code",
   "execution_count": 5,
   "id": "84bc9886-d286-47ff-bfb3-e6c04ae57836",
   "metadata": {},
   "outputs": [
    {
     "name": "stdout",
     "output_type": "stream",
     "text": [
      "(4,)\n"
     ]
    }
   ],
   "source": [
    "ones = np.ones(4)\n",
    "print(ones.shape)"
   ]
  },
  {
   "cell_type": "markdown",
   "id": "f3c3bda3-d58e-42c4-adf7-c24656ce14c6",
   "metadata": {},
   "source": [
    "- Others (like np.arange, np.linspace) only take the number of elements, not a shape."
   ]
  },
  {
   "cell_type": "code",
   "execution_count": 7,
   "id": "1c474602-08e1-4053-9bc5-882191d01fd8",
   "metadata": {},
   "outputs": [
    {
     "name": "stdout",
     "output_type": "stream",
     "text": [
      "np.arange(0, 5, 2):     a = [0 2 4], a shape = (3,), a data type = int32\n",
      "np.arange(5.):     a = [0. 1. 2. 3. 4.], a shape = (5,), a data type = float64\n",
      "np.arange(5):     a = [0 1 2 3 4], a shape = (5,), a data type = int32\n",
      "np.random.rand(4): a = [0.36946189 0.2439921  0.74702083 0.77309161 0.50580513], a shape = (5,), a data type = float64\n"
     ]
    }
   ],
   "source": [
    "# create range vector\n",
    "a = np.arange(0, 5, 2)  # start, stop, step\n",
    "print(f\"np.arange(0, 5, 2):     a = {a}, a shape = {a.shape}, a data type = {a.dtype}\")\n",
    "\n",
    "a = np.arange(5.)    #passing a float will create vector with dtype=float\n",
    "print(f\"np.arange(5.):     a = {a}, a shape = {a.shape}, a data type = {a.dtype}\")\n",
    "\n",
    "a = np.arange(5)     ##passing an int will create vector with dtype=int\n",
    "print(f\"np.arange(5):     a = {a}, a shape = {a.shape}, a data type = {a.dtype}\")\n",
    "\n",
    "# create random vector\n",
    "a = np.random.rand(5)       # 5 random numbers [0, 1)\n",
    "print(f\"np.random.rand(4): a = {a}, a shape = {a.shape}, a data type = {a.dtype}\")"
   ]
  },
  {
   "cell_type": "markdown",
   "id": "0f8730a7-c473-4a69-b22c-58f340f49dcf",
   "metadata": {},
   "source": [
    "### From Python Lists- values are specified manually:"
   ]
  },
  {
   "cell_type": "code",
   "execution_count": 9,
   "id": "6e0961d0-ac61-412a-8668-fa0dd1a2b11b",
   "metadata": {},
   "outputs": [
    {
     "name": "stdout",
     "output_type": "stream",
     "text": [
      "np.array([1, 2, 3, 4, 5]):  a = [1 2 3 4 5],     a shape = (5,), a data type = int32\n",
      "np.array([1, 2., 3, 4, 5]):  a = [1. 2. 3. 4. 5.],     a shape = (5,), a data type = float64\n"
     ]
    }
   ],
   "source": [
    "a = np.array([1, 2, 3, 4, 5])\n",
    "print(f\"np.array([1, 2, 3, 4, 5]):  a = {a},     a shape = {a.shape}, a data type = {a.dtype}\")\n",
    "\n",
    "a = np.array([1, 2., 3, 4, 5])   #here one value is float so numpy converts all values to float- dtype=foat\n",
    "print(f\"np.array([1, 2., 3, 4, 5]):  a = {a},     a shape = {a.shape}, a data type = {a.dtype}\")"
   ]
  },
  {
   "cell_type": "markdown",
   "id": "babe1b1c-d4b8-472a-a2cb-8a04dd35ff81",
   "metadata": {},
   "source": [
    "### Specifying Data Types:"
   ]
  },
  {
   "cell_type": "code",
   "execution_count": 11,
   "id": "8321d940-4a91-4c09-92b2-837e433fe724",
   "metadata": {},
   "outputs": [
    {
     "name": "stdout",
     "output_type": "stream",
     "text": [
      "np.array([1, 2, 3]):  a = [1 2 3],    a data type = int32\n",
      "np.array([1, 2, 3]):  a = [1. 2. 3.],    a data type = float64\n"
     ]
    }
   ],
   "source": [
    "a = np.array([1., 2, 3], dtype=np.int32)  #specify data type to int\n",
    "print(f\"np.array([1, 2, 3]):  a = {a},    a data type = {a.dtype}\")\n",
    "\n",
    "a = np.array([1, 2, 3], dtype=np.float64)  #specify data type to float\n",
    "print(f\"np.array([1, 2, 3]):  a = {a},    a data type = {a.dtype}\")"
   ]
  },
  {
   "cell_type": "markdown",
   "id": "4c71caf1-41c1-44fd-a5ae-56a1f0bacf2a",
   "metadata": {},
   "source": [
    "## Vector Properties"
   ]
  },
  {
   "cell_type": "code",
   "execution_count": 13,
   "id": "d8a28986-424c-4b89-81e6-cbef75a620ca",
   "metadata": {},
   "outputs": [
    {
     "name": "stdout",
     "output_type": "stream",
     "text": [
      "Shape: (4,)\n",
      "Size: 4\n",
      "Data type: int32\n",
      "Dimensions: 1\n",
      "Item size: 4\n"
     ]
    }
   ],
   "source": [
    "a = np.array([1, 2, 3, 4])\n",
    "\n",
    "print(f\"Shape: {a.shape}\")        # dimensions\n",
    "print(f\"Size: {a.size}\")          # total number of elements\n",
    "print(f\"Data type: {a.dtype}\")    # data type\n",
    "print(f\"Dimensions: {a.ndim}\")    # number of dimensions\n",
    "print(f\"Item size: {a.itemsize}\") # size in bytes of each element"
   ]
  },
  {
   "cell_type": "code",
   "execution_count": null,
   "id": "49822b1e-6e1a-49fc-8e3c-28b4e605d185",
   "metadata": {},
   "outputs": [],
   "source": []
  },
  {
   "cell_type": "markdown",
   "id": "fa001ac2-43e8-4f75-957a-ef1b96bbecf9",
   "metadata": {},
   "source": [
    "## Indexing and Slicing in NumPy\n",
    "\n",
    "NumPy arrays allow us to access individual elements and subarrays using **indexing** and **slicing**.  \n",
    "\n",
    "- **Indexing**:  \n",
    "  Returns a single element (a scalar). The result has no shape (`shape = ()`).  \n",
    "  You can also use negative indices to access elements from the end.  \n",
    "  If you try to access an index outside the valid range, NumPy raises an `IndexError`.  \n",
    "\n",
    "- **Slicing**:  \n",
    "  Returns a view (subarray) of the original array, not a single element.  \n",
    "  Slicing uses the format `start:stop:step` and **does not include the stop index**."
   ]
  },
  {
   "cell_type": "code",
   "execution_count": 15,
   "id": "e88a4feb-864f-42b7-a7d1-5cc8993c1937",
   "metadata": {},
   "outputs": [
    {
     "name": "stdout",
     "output_type": "stream",
     "text": [
      "[ 0  1  2  3  4  5  6  7  8  9 10 11]\n",
      "a[3]  = 3,         a[3].shape: ()\n",
      "a[-1] = 11\n",
      "The error is:\n",
      "index 12 is out of bounds for axis 0 with size 12\n"
     ]
    }
   ],
   "source": [
    "#vector indexing\n",
    "a = np.arange(12)\n",
    "print(a)\n",
    "\n",
    "#access elements\n",
    "#accessing an element returns a scalar\n",
    "print(f\"a[3]  = {a[3]},         a[3].shape: {a[3].shape}\")\n",
    "\n",
    "# access the last element\n",
    "print(f\"a[-1] = {a[-1]}\")\n",
    "\n",
    "#indexs must be within the range of the vector\n",
    "try:\n",
    "    print(a[12])\n",
    "except Exception as e:\n",
    "    print(\"The error is:\")\n",
    "    print(e)"
   ]
  },
  {
   "cell_type": "code",
   "execution_count": 16,
   "id": "5eccd696-a249-4313-851f-3bc2864850c0",
   "metadata": {},
   "outputs": [
    {
     "name": "stdout",
     "output_type": "stream",
     "text": [
      " a = [ 0  1  2  3  4  5  6  7  8  9 10 11]\n",
      "a[:4] = [0 1 2 3]\n",
      "a[3:]    =  [ 3  4  5  6  7  8  9 10 11]\n",
      "a[5:10] = [5 6 7 8 9]\n",
      "a[2:10:2] = [2 4 6 8]\n",
      "a[:] = [ 0  1  2  3  4  5  6  7  8  9 10 11]\n"
     ]
    }
   ],
   "source": [
    "#vector slicing (start: stop: step)\n",
    "a = np.arange(12)\n",
    "print(f\" a = {a}\")\n",
    "\n",
    "#access elemnts below index 4\n",
    "b = a[:4]   #4 not included\n",
    "print(f\"a[:4] = {b}\")\n",
    "\n",
    "# access all elements index 3 and above\n",
    "c = a[3:]\n",
    "print(\"a[3:]    = \", c)\n",
    "\n",
    "#access elements from index 5 to below index 10- step=1\n",
    "c = a[5:10:1]\n",
    "print(f\"a[5:10] = {c}\")\n",
    "\n",
    "#access 4 elements seperated by 2\n",
    "c = a[2:10:2]\n",
    "print(f\"a[2:10:2] = {c}\")\n",
    "\n",
    "#access all elements\n",
    "c = a[:]\n",
    "print(f\"a[:] = {c}\")"
   ]
  },
  {
   "cell_type": "markdown",
   "id": "7924a120-d711-4d9f-907b-5d10612b0a27",
   "metadata": {},
   "source": [
    "## Vector Operations"
   ]
  },
  {
   "cell_type": "markdown",
   "id": "a29bc7e7-f034-425a-8333-82509103a2d9",
   "metadata": {},
   "source": [
    "### Scalar Vector operations\n",
    "Vectors can be 'scaled' by scalar values. A scalar value is just a number. The scalar multiplies all the elements of the vector."
   ]
  },
  {
   "cell_type": "code",
   "execution_count": 19,
   "id": "6ae374de-1ccf-4a6b-b7e9-97068f963626",
   "metadata": {},
   "outputs": [
    {
     "name": "stdout",
     "output_type": "stream",
     "text": [
      "a + 10 = [11 12 13 14]\n",
      "a * 3 = [ 3  6  9 12]\n",
      "a / 2 =  [0.5 1.  1.5 2. ]\n"
     ]
    }
   ],
   "source": [
    "a = np.array([1, 2, 3, 4])\n",
    "\n",
    "#add scaler to a\n",
    "print(f\"a + 10 = {a + 10}\")\n",
    "#multiply a by a scaler\n",
    "print(f\"a * 3 = {a * 3}\")\n",
    "#divide a by a scaler\n",
    "print(f\"a / 2 =  {a / 2}\")"
   ]
  },
  {
   "cell_type": "markdown",
   "id": "1938650a-87e1-496d-a0d6-f1beb02e2935",
   "metadata": {},
   "source": [
    "### Single vector operations:\n",
    "operations on a single vector"
   ]
  },
  {
   "cell_type": "code",
   "execution_count": 21,
   "id": "61fae574-8766-43d9-9f1d-c0b0421d6f46",
   "metadata": {},
   "outputs": [
    {
     "name": "stdout",
     "output_type": "stream",
     "text": [
      "a = [1 2 3 4]\n",
      "-a = [-1 -2 -3 -4]\n",
      "np.sum(a) = 10\n",
      "np.mean(a) = 2.5\n",
      "np.linalg.norm(a)= 5.477225575051661\n",
      "a**2 = [ 1  4  9 16]\n"
     ]
    }
   ],
   "source": [
    "a = np.array([1,2,3,4])\n",
    "print(f\"a = {a}\")\n",
    "# negate elements of a\n",
    "b = -a \n",
    "print(f\"-a = {b}\")\n",
    "\n",
    "# sum all elements of a\n",
    "b = np.sum(a)             #returns a scalar\n",
    "print(f\"np.sum(a) = {b}\")\n",
    "\n",
    "#vector mean\n",
    "b = np.mean(a)\n",
    "print(f\"np.mean(a) = {b}\")\n",
    "\n",
    "#vector magnitude (norm)\n",
    "b = np.linalg.norm(a)\n",
    "print(f\"np.linalg.norm(a)= {b}\")\n",
    "\n",
    "b = a**2\n",
    "print(f\"a**2 = {b}\")"
   ]
  },
  {
   "cell_type": "markdown",
   "id": "ea4cac9b-9754-479b-b24c-2c39dd4dc5a4",
   "metadata": {},
   "source": [
    "### Vector Element-wise Operations:\n",
    "\n",
    "Most of the NumPy arithmetic, logical and comparison operations apply to vectors as well. These operators work on an element-by-element basis.\n",
    "\n",
    "- the vectors must be of the same size\n"
   ]
  },
  {
   "cell_type": "code",
   "execution_count": 23,
   "id": "0da562e2-8ec2-4802-8b4a-801f21094003",
   "metadata": {},
   "outputs": [
    {
     "name": "stdout",
     "output_type": "stream",
     "text": [
      "a = [1 2 3 4],   b = [5 6 7 8]\n",
      "a + b =  [ 6  8 10 12]\n",
      "a - b =  [-4 -4 -4 -4]\n",
      "a * b =  [ 5 12 21 32]\n",
      "a / b = [0.2        0.33333333 0.42857143 0.5       ]\n",
      "a ** 2 = [ 1  4  9 16]\n"
     ]
    }
   ],
   "source": [
    "a = np.array([1, 2, 3, 4])\n",
    "b = np.array([5, 6, 7, 8])\n",
    "\n",
    "print(f\"a = {a},   b = {b}\")\n",
    "print(f\"a + b =  {a + b}\")\n",
    "print(f\"a - b =  {a - b}\")\n",
    "print(f\"a * b =  {a * b}\")\n",
    "print(f\"a / b = {a / b}\")\n",
    "print(f\"a ** 2 = {a ** 2}\")"
   ]
  },
  {
   "cell_type": "code",
   "execution_count": 24,
   "id": "ce2ffc0f-afb5-4eb7-9aec-576a16660f16",
   "metadata": {},
   "outputs": [
    {
     "name": "stdout",
     "output_type": "stream",
     "text": [
      "operands could not be broadcast together with shapes (4,) (2,) \n"
     ]
    }
   ],
   "source": [
    "#a & c not the same size\n",
    "c = np.array([1, 2])\n",
    "try:\n",
    "    print(a + c)\n",
    "except Exception as e:\n",
    "    print(e)"
   ]
  },
  {
   "cell_type": "code",
   "execution_count": 25,
   "id": "d0fb4320-7d23-4563-816f-6d85ec12b840",
   "metadata": {},
   "outputs": [
    {
     "name": "stdout",
     "output_type": "stream",
     "text": [
      "a == b : [ True False False  True False]\n",
      "a != bl : [False  True  True False  True]\n",
      "a > b : [False False  True False False]\n",
      "a <= b : [ True  True False  True  True]\n",
      "Any equal: True\n",
      "All equal: False\n",
      "Arrays equal: False\n"
     ]
    }
   ],
   "source": [
    "#vector Ccmparisons\n",
    "a = np.array([1, 2, 3, 4, 5])\n",
    "b = np.array([1, 3, 2, 4, 6])\n",
    "\n",
    "# element-wise comparisons\n",
    "print(f\"a == b : {a == b}\")\n",
    "print(f\"a != bl : {a != b}\")\n",
    "print(f\"a > b : {a > b}\")\n",
    "print(f\"a <= b : {a <= b}\")\n",
    "\n",
    "# logical operations\n",
    "print(f\"Any equal: {np.any(a == b)}\")   # True if at least one element matches\n",
    "print(f\"All equal: {np.all(a == b)}\")   # True only if all elements match\n",
    "\n",
    "# full array equality check (shape + contents)\n",
    "print(f\"Arrays equal: {np.array_equal(a, b)}\")"
   ]
  },
  {
   "cell_type": "markdown",
   "id": "8148e1d4-d667-495a-8196-8a1e56f103f6",
   "metadata": {},
   "source": [
    "### Vector Products    \n",
    "\n",
    "- **Dot product (`np.dot` or `@`)**: multiplies corresponding elements and sums them up, returning a scalar.  \n",
    "- **Cross product (`np.cross`)**: defined only for 3D vectors, returns another vector that is perpendicular to both inputs.  \n"
   ]
  },
  {
   "cell_type": "code",
   "execution_count": 27,
   "id": "6238b5ba-9788-46ad-8df5-519538d8c031",
   "metadata": {},
   "outputs": [
    {
     "name": "stdout",
     "output_type": "stream",
     "text": [
      "a = [1 2 3],   b = [4 5 6]\n",
      "np.dot(a,b) = 32\n",
      "a @ b = 32\n",
      "np.cross(a, b) =  [-3  6 -3]\n"
     ]
    }
   ],
   "source": [
    "a = np.array([1, 2, 3])\n",
    "b = np.array([4, 5, 6])\n",
    "print(f\"a = {a},   b = {b}\")\n",
    "\n",
    "# dot product\n",
    "c = np.dot(a, b)\n",
    "print(f\"np.dot(a,b) = {c}\")\n",
    "\n",
    "# alternative dot product syntax - @\n",
    "c = a @ b\n",
    "print(f\"a @ b = {c}\")\n",
    "\n",
    "# cross product >>> vector perpendicular to a and b\n",
    "c = np.cross(a, b)\n",
    "print(f\"np.cross(a, b) =  {c}\")"
   ]
  }
 ],
 "metadata": {
  "kernelspec": {
   "display_name": "Python 3 (ipykernel)",
   "language": "python",
   "name": "python3"
  },
  "language_info": {
   "codemirror_mode": {
    "name": "ipython",
    "version": 3
   },
   "file_extension": ".py",
   "mimetype": "text/x-python",
   "name": "python",
   "nbconvert_exporter": "python",
   "pygments_lexer": "ipython3",
   "version": "3.12.7"
  }
 },
 "nbformat": 4,
 "nbformat_minor": 5
}
