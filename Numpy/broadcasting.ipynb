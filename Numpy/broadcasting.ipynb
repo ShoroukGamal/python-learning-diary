{
 "cells": [
  {
   "cell_type": "markdown",
   "id": "8115d9cd-0239-4c18-b8e9-16d4f0572c54",
   "metadata": {},
   "source": [
    "# NumPy Broadcasting\n",
    "\n",
    "## Introduction\n",
    "\n",
    "The term **broadcasting** describes how NumPy treats arrays with different shapes during arithmetic operations.\n",
    "\n",
    "- If the shapes are not the same, NumPy tries to “stretch” the smaller array across the larger one so they can work together.\n",
    "\n",
    "- This avoids making unnecessary copies of data and makes operations fast and memory efficient."
   ]
  },
  {
   "cell_type": "markdown",
   "id": "3fd360cf-3401-4abf-9b1d-6b629eff0183",
   "metadata": {},
   "source": [
    "## Why Broadcasting? \n",
    "let's say if i want to add a scaler value to each elemnt of an array:\n",
    "\n",
    "One way is to manually create another array **with the same shape**, filled with that scalar, and then add them together.  \n",
    "For example:"
   ]
  },
  {
   "cell_type": "code",
   "execution_count": 3,
   "id": "6445e02c-6f74-4c5f-88b9-aedbcd443de5",
   "metadata": {},
   "outputs": [
    {
     "name": "stdout",
     "output_type": "stream",
     "text": [
      "[3 4 5 6]\n"
     ]
    }
   ],
   "source": [
    "import numpy as np\n",
    "\n",
    "a = np.array([1, 2, 3, 4])\n",
    "b = np.array([2, 2, 2, 2])   # repeating 2 \n",
    "print(a + b)"
   ]
  },
  {
   "cell_type": "markdown",
   "id": "85e44a1b-bad5-4a2d-8266-22dbd964ef67",
   "metadata": {},
   "source": [
    "If `a` had 1 million elements, then `b` would also need 1 million elements, all holding the same number — it **wastes memory**."
   ]
  },
  {
   "cell_type": "markdown",
   "id": "cbd1e9da-27fa-4209-9f62-b7a3117fa4a2",
   "metadata": {},
   "source": [
    "**With broadcasting**, NumPy avoids creating that second array"
   ]
  },
  {
   "cell_type": "code",
   "execution_count": 6,
   "id": "c89091dc-122b-4848-be8d-48a8edd5cbaa",
   "metadata": {},
   "outputs": [
    {
     "name": "stdout",
     "output_type": "stream",
     "text": [
      "[3 4 5 6]\n"
     ]
    }
   ],
   "source": [
    "a = np.array([1, 2, 3, 4])\n",
    "b = 2 \n",
    "print(a + b)   \n"
   ]
  },
  {
   "cell_type": "markdown",
   "id": "9816f14b-9ce6-42fe-9161-da70c243e9f2",
   "metadata": {},
   "source": [
    "The result is the same as in the earlier example where `b` was an array of `[2, 2, 2, 2]`.  \n",
    "\n",
    "You can think of **broadcasting** as NumPy **\"stretching\"** the scalar `2` into an array that matches the shape of `a`. Conceptually, it looks like this:\n",
    "\n",
    "```\n",
    "[1, 2, 3, 4] .* [2, 2, 2, 2]\n",
    "= [6, 7, 8, 9]\n",
    "```\n",
    "\n",
    "But this stretching is only a **mental model**.  \n",
    "\n",
    "In reality, NumPy is smart enough **not** to actually create `[2, 2, 2, 2]` in memory.  \n",
    "Instead, it keeps the single scalar value `2` and applies it **element by element** directly in efficient C code.  \n",
    "\n",
    "This way, broadcasting is both:  \n",
    "- **Memory efficient** (no duplicate arrays are created)  \n",
    "- **Computationally efficient** (fast vectorized operations instead of slow Python loops)\n",
    "\n",
    "---\n"
   ]
  },
  {
   "cell_type": "markdown",
   "id": "8eac8bb9-f143-4240-bd88-3cc5dc06b9c0",
   "metadata": {},
   "source": [
    "# General Broadcasting Rules\n",
    "\n",
    "Broadcasting decides how NumPy can make arrays with **different shapes** work together.  \n",
    "Here’s how it works:\n",
    "\n",
    "1. **Compare shapes from right to left**   \n",
    "2. Two dimensions are compatible if:  \n",
    "   - They are the same size, OR  \n",
    "   - One of them is `1` (NumPy will stretch it).  \n",
    "3. If the dimensions don’t match these rules → error.  "
   ]
  },
  {
   "cell_type": "code",
   "execution_count": 9,
   "id": "6748b4be-f7cb-4050-aac3-64542b22b6e7",
   "metadata": {},
   "outputs": [
    {
     "ename": "NameError",
     "evalue": "name 'b2' is not defined",
     "output_type": "error",
     "traceback": [
      "\u001b[1;31m---------------------------------------------------------------------------\u001b[0m",
      "\u001b[1;31mNameError\u001b[0m                                 Traceback (most recent call last)",
      "Cell \u001b[1;32mIn[9], line 3\u001b[0m\n\u001b[0;32m      1\u001b[0m a1 \u001b[38;5;241m=\u001b[39m np\u001b[38;5;241m.\u001b[39marray([\u001b[38;5;241m1\u001b[39m, \u001b[38;5;241m2\u001b[39m, \u001b[38;5;241m3\u001b[39m])\n\u001b[0;32m      2\u001b[0m b1 \u001b[38;5;241m=\u001b[39m np\u001b[38;5;241m.\u001b[39marray([[\u001b[38;5;241m10\u001b[39m], [\u001b[38;5;241m20\u001b[39m], [\u001b[38;5;241m30\u001b[39m]])\n\u001b[1;32m----> 3\u001b[0m \u001b[38;5;28mprint\u001b[39m(\u001b[38;5;124mf\u001b[39m\u001b[38;5;124m\"\u001b[39m\u001b[38;5;124mshape pf a1 = \u001b[39m\u001b[38;5;132;01m{\u001b[39;00ma1\u001b[38;5;241m.\u001b[39mshape\u001b[38;5;132;01m}\u001b[39;00m\u001b[38;5;124m, shape of b1 = \u001b[39m\u001b[38;5;132;01m{\u001b[39;00m\u001b[43mb2\u001b[49m\u001b[38;5;241m.\u001b[39mshape\u001b[38;5;132;01m}\u001b[39;00m\u001b[38;5;124m\"\u001b[39m)\n\u001b[0;32m      4\u001b[0m \u001b[38;5;28mprint\u001b[39m(a1 \u001b[38;5;241m+\u001b[39m b1)\n",
      "\u001b[1;31mNameError\u001b[0m: name 'b2' is not defined"
     ]
    }
   ],
   "source": [
    "a1 = np.array([1, 2, 3])\n",
    "b1 = np.array([[10], [20], [30]])\n",
    "print(f\"shape pf a1 = {a1.shape}, shape of b1 = {b2.shape}\")\n",
    "print(a1 + b1)"
   ]
  },
  {
   "cell_type": "markdown",
   "id": "9e375fa1-5be7-432f-a2ed-7e4b4cbe3f45",
   "metadata": {},
   "source": [
    "`a` has shape (3,) >>> this means it’s 1D with 3 elements.\n",
    "\n",
    "`b` has shape (3,1) >>> this means it’s 2D: 3 rows, 1 column.\n",
    "\n",
    "   **pad the smaller shape**\n",
    "   \n",
    "Broadcasting always compares dimensions **from the right**.\n",
    "BUT if shapes **don’t** have **the same number of dimensions**, NumPy pretends **the missing dimensions** are **1**.\n",
    "\n",
    "So:\n",
    "\n",
    "Shape of `a (3,)` >>> treat it as `(1,3)` (added a leading 1)\n",
    "\n",
    "Shape of `b (3,1)`\n",
    "\n",
    "Now they both have 2 dimensions.\n",
    "\n",
    "   ***Compare dimension by dimension (from right to left)***\n",
    "   \n",
    "Rightmost: 3 vs 1 >>> OK (rule: one is 1 >>> stretch the 1 to 3)\n",
    "\n",
    "Next: 1 vs 3 >>> OK (again, one is 1 >>> stretch the 1 to 3)\n",
    "\n",
    "   ***Result shape***\n",
    "   \n",
    "After stretching:\n",
    "`a (1,3)` becomes `(3,3)` (its single row repeats 3 times)\n",
    "\n",
    "`b (3,1)` becomes `(3,3)` (its single column repeats 3 times)\n",
    "\n",
    "So the result shape = (3,3):\n",
    " ```\n",
    "[[11 12 13]\n",
    " [21 22 23]\n",
    " [31 32 33]]\n",
    "```\n",
    "\n",
    "REMEMBER:\n",
    "- NumPy doesn’t actually make copies, it just pretends they were stretched.\n",
    "\n",
    "- That’s why it’s fast and memory efficient."
   ]
  },
  {
   "cell_type": "code",
   "execution_count": 17,
   "id": "80ac493e-18fd-47b6-92c6-4ac9a7c3715d",
   "metadata": {},
   "outputs": [
    {
     "name": "stdout",
     "output_type": "stream",
     "text": [
      "shape of a2 = (3, 2)\n",
      "[[4 3]\n",
      " [5 4]\n",
      " [3 3]]\n"
     ]
    }
   ],
   "source": [
    "#let's take another example of scaler broadcasting\n",
    "a2 = np.array([[2, 1],\n",
    "               [3, 2],\n",
    "               [1, 1]])\n",
    "b2 = 2\n",
    "print(f\"shape of a2 = {a2.shape}\")\n",
    "print(a2 + b2)"
   ]
  },
  {
   "cell_type": "markdown",
   "id": "ae369332-8398-41ff-9b5b-84ba2e829c6f",
   "metadata": {},
   "source": [
    "- Scalar `2` is treated as shape `()`\n",
    "\n",
    "- Stretched to `(3, 2)` during the operation"
   ]
  },
  {
   "cell_type": "markdown",
   "id": "bd9c31d3-7c7c-4099-adc7-6fde8c745a6d",
   "metadata": {},
   "source": [
    "## Something else in my mind... Scalars\n",
    "\n",
    "Since we’re talking about broadcasting, you might wonder:  \n",
    "  *what exactly is a scalar?*  \n",
    "  *is there a difference between a Python scalar and a NumPy scalar?*  \n",
    "\n",
    "Let’s explore this:\n"
   ]
  },
  {
   "cell_type": "code",
   "execution_count": 19,
   "id": "ee0ff058-9c37-4fb1-9ff0-b619bbd2fd39",
   "metadata": {},
   "outputs": [
    {
     "name": "stdout",
     "output_type": "stream",
     "text": [
      "Python scalar: 2 >>> type: <class 'int'>\n",
      "NumPy scalar: 2 >>> type: <class 'numpy.ndarray'>\n",
      "Shape of NumPy scalar: ()\n"
     ]
    }
   ],
   "source": [
    "#python scalar\n",
    "py_scalar = 2\n",
    "print(\"Python scalar:\", py_scalar, \">>> type:\", type(py_scalar))\n",
    "\n",
    "#numPy scalar (0-dimensional array)\n",
    "np_scalar = np.array(2)\n",
    "print(\"NumPy scalar:\", np_scalar, \">>> type:\", type(np_scalar))\n",
    "print(\"Shape of NumPy scalar:\", np_scalar.shape)       #just ()\n"
   ]
  },
  {
   "cell_type": "markdown",
   "id": "28c73b01-3c2c-4a43-b522-40e7ceacda2d",
   "metadata": {},
   "source": [
    "- A **Python scalar** is just a plain integer (`int`, `float`, etc.).  \n",
    "- A **NumPy scalar** looks like a single number, but technically it’s a **0-dimensional array** (`shape = ()`).  \n"
   ]
  },
  {
   "cell_type": "code",
   "execution_count": 21,
   "id": "d071aaf9-81ff-47cd-9b9d-74e30d7b679f",
   "metadata": {},
   "outputs": [
    {
     "name": "stdout",
     "output_type": "stream",
     "text": [
      "Array: [1 2 3]\n",
      "Add Python scalar: [3 4 5]\n",
      "Add NumPy scalar: [3 4 5]\n"
     ]
    }
   ],
   "source": [
    "#how they both behave in broadcasting?\n",
    "arr = np.array([1, 2, 3])\n",
    "\n",
    "print(\"Array:\", arr)\n",
    "print(\"Add Python scalar:\", arr + py_scalar)\n",
    "print(\"Add NumPy scalar:\", arr + np_scalar)\n"
   ]
  },
  {
   "cell_type": "markdown",
   "id": "5ad8e3d0-4143-4c07-b183-584ebd994bdb",
   "metadata": {},
   "source": [
    "- The results are the same in both!!\n",
    "\n",
    "  \n",
    "In broadcasting, **both Python scalars and NumPy scalars behave the same**.  \n",
    "\n",
    "- NumPy treats a scalar as having `shape = ()`.  \n",
    "- When combined with another array, it conceptually \"expands\" to match the shape of that array.\n",
    "\n",
    "---\n",
    "lets's go back to broadcasting and take an example of **incompatible shapes**"
   ]
  },
  {
   "cell_type": "code",
   "execution_count": 23,
   "id": "18501132-21f3-44fb-8cc0-d8fde6d86f83",
   "metadata": {},
   "outputs": [
    {
     "ename": "ValueError",
     "evalue": "operands could not be broadcast together with shapes (3,2) (4,2) ",
     "output_type": "error",
     "traceback": [
      "\u001b[1;31m---------------------------------------------------------------------------\u001b[0m",
      "\u001b[1;31mValueError\u001b[0m                                Traceback (most recent call last)",
      "Cell \u001b[1;32mIn[23], line 4\u001b[0m\n\u001b[0;32m      1\u001b[0m a3 \u001b[38;5;241m=\u001b[39m np\u001b[38;5;241m.\u001b[39mones((\u001b[38;5;241m3\u001b[39m, \u001b[38;5;241m2\u001b[39m))   \u001b[38;5;66;03m# shape (3,2)\u001b[39;00m\n\u001b[0;32m      2\u001b[0m b3 \u001b[38;5;241m=\u001b[39m np\u001b[38;5;241m.\u001b[39mones((\u001b[38;5;241m4\u001b[39m, \u001b[38;5;241m2\u001b[39m))   \u001b[38;5;66;03m# shape (4,2)\u001b[39;00m\n\u001b[1;32m----> 4\u001b[0m \u001b[38;5;28mprint\u001b[39m(\u001b[43ma3\u001b[49m\u001b[43m \u001b[49m\u001b[38;5;241;43m+\u001b[39;49m\u001b[43m \u001b[49m\u001b[43mb3\u001b[49m)\n",
      "\u001b[1;31mValueError\u001b[0m: operands could not be broadcast together with shapes (3,2) (4,2) "
     ]
    }
   ],
   "source": [
    "a3 = np.ones((3, 2))   # shape (3,2)\n",
    "b3 = np.ones((4, 2))   # shape (4,2)\n",
    "\n",
    "print(a3 + b3)"
   ]
  },
  {
   "cell_type": "markdown",
   "id": "69785157-7847-4d0e-955c-c66a30932afc",
   "metadata": {},
   "source": [
    "a3 has shape `(3, 2)` ans b3 has shape `(4, 2)`\n",
    "\n",
    "- First, compare from right: 2 vs 2 >>> OK\n",
    "- Next: 3 vs 4 >>> not equal, not 1 >>> Error\n",
    "  \n",
    "And will give `ValueError: operands could not be broadcast together with shapes (3,2) (4,2)`\n",
    "\n",
    "---"
   ]
  },
  {
   "cell_type": "markdown",
   "id": "cadbdee6-5d2d-4c18-a170-ecfc4d5b2273",
   "metadata": {},
   "source": [
    "### let's take another example: Scaling RGB image\n",
    "Imagine you have an image stored as a `256 x 256 x 3` NumPy array:\n",
    "- `256 x 256` → height and width of the image  \n",
    "- `3` → RGB channels (Red, Green, Blue)  \n",
    "\n",
    "Now suppose we want to scale each color channel by a different factor.  \n",
    "We can do this by multiplying the image with a **1D array of length 3**."
   ]
  },
  {
   "cell_type": "code",
   "execution_count": 25,
   "id": "fcffbd32-c790-4d48-ae5b-0f39703be48a",
   "metadata": {},
   "outputs": [
    {
     "name": "stdout",
     "output_type": "stream",
     "text": [
      "Image shape: (256, 256, 3)\n",
      "Scale shape: (3,)\n",
      "Result shape: (256, 256, 3)\n"
     ]
    }
   ],
   "source": [
    "#rgb image\n",
    "image = np.random.rand(256, 256, 3)  \n",
    "\n",
    "# Scale factors\n",
    "scale = np.array([0.5, 1.0, 1.5])  \n",
    "\n",
    "# Broadcasting in action\n",
    "scaled_image = image * scale  \n",
    "\n",
    "print(\"Image shape:\", image.shape)\n",
    "print(\"Scale shape:\", scale.shape)\n",
    "print(\"Result shape:\", scaled_image.shape)"
   ]
  },
  {
   "cell_type": "markdown",
   "id": "7875a93a-d50b-4c5f-b81e-08171209e92b",
   "metadata": {},
   "source": [
    "### Again how it works!\n",
    "- `image` has shape `(256, 256, 3)`  \n",
    "- `scale` has shape `(3,)`\n",
    "  \n",
    "- Shape `(3,)` means it’s a 1D array with 3 elements.\n",
    "\n",
    "When compared to `(256, 256, 3)`, NumPy will pad on the left with 1s until the number of dimensions matches.\n",
    "\n",
    "So (3,) → (1, 3) → (1, 1, 3)\n",
    "\n",
    "Now they line up:\n",
    "  - (256, 256, 3)\n",
    "  - ( 1, 1, 3)\n",
    "    \n",
    "- NumPy compares shapes from the **trailing dimensions** -from right to left-:  \n",
    "  - `3` (from image) vs `3` (from scale) → compatible  \n",
    "- The other dimensions of `scale` are treated as size `1` and stretched.  \n",
    "\n",
    "Final result has shape `(256, 256, 3)`.\n",
    "\n",
    "---"
   ]
  },
  {
   "cell_type": "code",
   "execution_count": 27,
   "id": "3f49e2d7-85cd-404b-9acc-4cada894fbcd",
   "metadata": {},
   "outputs": [
    {
     "name": "stdout",
     "output_type": "stream",
     "text": [
      "Shape of a4: (8, 1, 6, 1)\n",
      "Shape of b4: (7, 1, 5)\n",
      "Shape of result: (8, 7, 6, 5)\n"
     ]
    }
   ],
   "source": [
    "#higher dimensions\n",
    "a4 = np.zeros((8, 1, 6, 1))\n",
    "b4 = np.zeros((7, 1, 5))\n",
    "\n",
    "result = a4 + b4\n",
    "print(\"Shape of a4:\", a4.shape)\n",
    "print(\"Shape of b4:\", b4.shape)\n",
    "print(\"Shape of result:\", result.shape)\n"
   ]
  },
  {
   "cell_type": "markdown",
   "id": "f50ce789-9b53-4cb0-9853-aa2aa5bdbdeb",
   "metadata": {},
   "source": [
    "### Another example- Higher-dimensional broadcasting\n",
    "\n",
    "- `a4` has shape `(8, 1, 6, 1)`  \n",
    "- `b4` has shape `(    7, 1, 5)`  \n",
    "\n",
    "According to the broadcasting rules:  \n",
    "- Align trailing dimensions → `(8, 1, 6, 1)` vs `(   7, 1, 5)`  \n",
    "- Compare dimension by dimension:  \n",
    "  - `1` vs `5` → stretch the `1` to `5`  \n",
    "  - `6` vs `1` → stretch the `1` to `6`  \n",
    "  - `1` vs `7` → stretch the `1` to `7`  \n",
    "  - `8` vs missing → treat as `8 vs 1`, so stretch to `8`  \n",
    "\n",
    "Resulting shape: `(8, 7, 6, 5)`"
   ]
  },
  {
   "cell_type": "code",
   "execution_count": null,
   "id": "d7870362-cfa4-4ded-8dae-36eb28eefb3f",
   "metadata": {},
   "outputs": [],
   "source": []
  }
 ],
 "metadata": {
  "kernelspec": {
   "display_name": "Python 3 (ipykernel)",
   "language": "python",
   "name": "python3"
  },
  "language_info": {
   "codemirror_mode": {
    "name": "ipython",
    "version": 3
   },
   "file_extension": ".py",
   "mimetype": "text/x-python",
   "name": "python",
   "nbconvert_exporter": "python",
   "pygments_lexer": "ipython3",
   "version": "3.12.7"
  }
 },
 "nbformat": 4,
 "nbformat_minor": 5
}
